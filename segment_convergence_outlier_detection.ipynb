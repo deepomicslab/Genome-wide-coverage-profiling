{
 "cells": [
  {
   "cell_type": "code",
   "execution_count": 1,
   "id": "a1fbbcb5-b920-4c42-a0fe-bbfae9863188",
   "metadata": {},
   "outputs": [
    {
     "data": {
      "text/plain": [
       "'1.5.1'"
      ]
     },
     "execution_count": 1,
     "metadata": {},
     "output_type": "execute_result"
    }
   ],
   "source": [
    "import pandas as pd\n",
    "from matplotlib import pyplot as plt\n",
    "import seaborn as sns\n",
    "import pickle,sys,os\n",
    "from numpy import *\n",
    "import ruptures as rpt\n",
    "from scipy.stats import norm, pearsonr, zscore, rankdata\n",
    "from sklearn.decomposition import PCA\n",
    "from sklearn.covariance import EllipticEnvelope\n",
    "import math\n",
    "import warnings\n",
    "warnings.filterwarnings(\"ignore\")\n",
    "import sklearn\n",
    "sklearn.__version__"
   ]
  },
  {
   "cell_type": "code",
   "execution_count": 2,
   "id": "86eee08f-7b28-4409-ac11-23e33d13c900",
   "metadata": {},
   "outputs": [],
   "source": [
    "from sklearn.inspection import DecisionBoundaryDisplay\n",
    "from sklearn.model_selection import KFold\n",
    "from sklearn.metrics import confusion_matrix"
   ]
  },
  {
   "cell_type": "code",
   "execution_count": 3,
   "id": "dc27512a-b707-4303-a2df-93098867cf0f",
   "metadata": {},
   "outputs": [],
   "source": [
    "with open('../../Human_hg38_chrom_ends.pkl','rb') as a:\n",
    "    ENDS = pickle.load(a)\n",
    "\n",
    "with open('../../Human_hg38_auto_10kb_windows.pkl','rb') as b:\n",
    "    W = pickle.load(b)"
   ]
  },
  {
   "cell_type": "code",
   "execution_count": 4,
   "id": "83da0f94-9ae8-4244-be1a-1d50c8c3e81e",
   "metadata": {},
   "outputs": [],
   "source": [
    "def get_numpy_arr(infile,columns=None):\n",
    "    arr_file = load(infile)\n",
    "    if columns is None:\n",
    "        arr = arr_file['arr']\n",
    "    else:\n",
    "        arr = arr_file['arr'][:,columns]\n",
    "    for cols in range(arr.shape[1]):\n",
    "        csum = sum(arr[:,cols])\n",
    "        arr[:,cols] /= csum\n",
    "    return arr\n",
    "\n",
    "def get_full_table(arr,win=10000):\n",
    "    rows = 0\n",
    "    full_table = []\n",
    "    for ch in range(22):\n",
    "        chrom = 'chr'+str(ch+1)\n",
    "        bound = ENDS[chrom]\n",
    "        windows = bound // win\n",
    "        full_table.append(arr[rows:rows+windows,:])\n",
    "        rows += windows\n",
    "    if rows!=arr.shape[0]:\n",
    "        print('error')\n",
    "    return full_table\n",
    "\n",
    "def get_full_table_array_k_chr(full_table,win=10000,k=1):\n",
    "    ends = []\n",
    "    if k == 1:\n",
    "        for ch in range(22):\n",
    "            if ch == 0:\n",
    "                arr = full_table[ch]\n",
    "            else:\n",
    "                arr = concatenate((arr,full_table[ch]),axis=0)\n",
    "            ends.append(arr.shape[0])\n",
    "    else:\n",
    "        ft = []\n",
    "        for ch in range(22):\n",
    "            chrom = 'chr'+str(ch+1)\n",
    "            bound = ENDS[chrom]\n",
    "            win2 = win*k\n",
    "            windows2 = bound // win2\n",
    "            arr_i = full_table[ch]\n",
    "            arr_k = zeros((windows2,arr_i.shape[1]))\n",
    "            for j in range(windows2-1):\n",
    "                arr_k[j] = arr_i[j*k:(j+1)*k,:].sum(axis=0)\n",
    "            arr_k[-1] = arr_i[(windows2-1)*k:,:].sum(axis=0)\n",
    "            if ch==0:\n",
    "                arr = arr_k\n",
    "            else:\n",
    "                arr = concatenate((arr,arr_k),axis=0)\n",
    "            ends.append(arr.shape[0])\n",
    "    return arr, ends\n",
    "\n",
    "def get_arr(infile,columns=None,k=1,print_ends=False):\n",
    "    df_arr = get_numpy_arr(infile,columns)\n",
    "    table = get_full_table(df_arr)\n",
    "    ftk, ends = get_full_table_array_k_chr(table,k=k)\n",
    "    if print_ends:\n",
    "        print(ends)\n",
    "    return ftk #arrs"
   ]
  },
  {
   "cell_type": "code",
   "execution_count": 5,
   "id": "ac160fcc-3adc-4c20-a71a-a023a92fbef9",
   "metadata": {},
   "outputs": [
    {
     "data": {
      "text/plain": [
       "(287487, 3202)"
      ]
     },
     "execution_count": 5,
     "metadata": {},
     "output_type": "execute_result"
    }
   ],
   "source": [
    "k = 1\n",
    "thgs = get_arr('merged_table_no_correction_1000g_10kb.npz',k=k)\n",
    "thgs.shape"
   ]
  },
  {
   "cell_type": "code",
   "execution_count": 6,
   "id": "9c95e9fe-2aab-4c8b-8caf-ac10944c1de8",
   "metadata": {},
   "outputs": [],
   "source": [
    "ctrl38s = get_arr('../../merged_table_no_correction_ctrl38_10kb.npz',k=k)\n",
    "ctdna36s = get_arr('../../merged_table_no_correction_ctdna36luad_10kb.npz',k=k)\n",
    "brcas = get_arr('../../merged_table_no_correction_brca_10kb.npz',k=k)\n",
    "crcs = get_arr('../../merged_table_no_correction_crc_10kb.npz',k=k)\n",
    "ctrl29s = get_arr('../../merged_table_no_correction_ctrl29_10kb.npz',k=k)\n",
    "ega8460 = get_arr('../../merged_table_no_correction_EGA8460_10kb.npz',k=k)\n",
    "ega5343_ctrl = get_arr('../../merged_table_no_correction_EGA5343_ctrl_10kb.npz',k=k)"
   ]
  },
  {
   "cell_type": "code",
   "execution_count": 7,
   "id": "1cceb408-069f-4396-bf3f-32ac97886bb4",
   "metadata": {},
   "outputs": [],
   "source": [
    "ega5343_prostate = get_arr('../../merged_table_no_correction_EGA5343_prostate_10kb.npz',k=k)"
   ]
  },
  {
   "cell_type": "code",
   "execution_count": 8,
   "id": "1f498441-8715-44ad-addd-38b9e237b588",
   "metadata": {},
   "outputs": [
    {
     "name": "stdout",
     "output_type": "stream",
     "text": [
      "[24895, 49114, 68943, 87964, 106117, 123197, 139131, 153644, 167483, 180862, 194370, 207697, 219133, 229837, 240036, 249069, 257394, 265431, 271292, 277736, 282406, 287487]\n"
     ]
    }
   ],
   "source": [
    "arr_file = load('../../merged_table_no_correction_EGA7080_10kb.npz')\n",
    "samples = arr_file['samples']\n",
    "\n",
    "ctrl = [i for i in range(len(samples)) if samples[i].startswith('Ctrl')]\n",
    "ctdna = [i for i in range(len(samples)) if i not in ctrl] # and samples[i].endswith('_1')\n",
    "ega7080_ctrl = get_arr('../../merged_table_no_correction_EGA7080_10kb.npz',columns=ctrl,k=k)\n",
    "ega7080_ctdna = get_arr('../../merged_table_no_correction_EGA7080_10kb.npz',columns=ctdna,k=k,print_ends=True)"
   ]
  },
  {
   "cell_type": "code",
   "execution_count": 9,
   "id": "4c31ceb3-0d68-4ac9-afe8-63491fe69f0d",
   "metadata": {},
   "outputs": [
    {
     "name": "stdout",
     "output_type": "stream",
     "text": [
      "51248\n",
      "[0, 21838, 43007, 61151, 77732, 93356, 108799, 122508, 135682, 146854, 158478, 170121, 181337, 190291, 197701, 205137, 211316, 216730, 222093, 226049, 231029, 233445, 236239]\n"
     ]
    }
   ],
   "source": [
    "ends = [24895, 49114, 68943, 87964, 106117, 123197,139131, 153644, 167483, 180862, \n",
    "        194370, 207697, 219133, 229837, 240036, 249069, 257394, 265431, 271292, 277736, 282406, 287487]\n",
    "feats = [i for i in range(thgs.shape[0]) if sum(thgs[i,:])>0]\n",
    "print(ends[-1]-len(feats))\n",
    "#zf = [i for i in range(thgs.shape[0]) if i not in feats]\n",
    "#print(len(zf))\n",
    "chr_splits = [0]\n",
    "j = 0\n",
    "for e in ends:\n",
    "    for i in range(j,len(feats)):\n",
    "        if feats[i] > e:\n",
    "            chr_splits.append(i)\n",
    "            j = i\n",
    "            break\n",
    "chr_splits.append(len(feats))\n",
    "print(chr_splits)"
   ]
  },
  {
   "cell_type": "code",
   "execution_count": 10,
   "id": "092d1455-ae19-4365-a8f9-735cc6704521",
   "metadata": {},
   "outputs": [],
   "source": [
    "def get_rank(arr):\n",
    "    ranked_arr = []\n",
    "    for i in range(arr.shape[1]):\n",
    "        ranked = rankdata(arr[:,i],'min')\n",
    "        ranked_arr.append(ranked)\n",
    "    return array(ranked_arr).T"
   ]
  },
  {
   "cell_type": "code",
   "execution_count": 11,
   "id": "1a95c7d2-3931-482f-b11e-8b73a5596795",
   "metadata": {},
   "outputs": [],
   "source": [
    "rctrl38s = get_rank(ctrl38s[feats,:])\n",
    "rctdna36s = get_rank(ctdna36s[feats,:])\n",
    "rbrcas = get_rank(brcas[feats,:])\n",
    "rcrcs = get_rank(crcs[feats,:])\n",
    "rctrl29s = get_rank(ctrl29s[feats,:])\n",
    "rega5343_ctrl = get_rank(ega5343_ctrl[feats,:])\n",
    "rega7080_ctrl = get_rank(ega7080_ctrl[feats,:])\n",
    "rega8460 = get_rank(ega8460[feats,:])\n",
    "rega7080_ctdna = get_rank(ega7080_ctdna[feats,:])\n",
    "rthgs = get_rank(thgs[feats,:])"
   ]
  },
  {
   "cell_type": "code",
   "execution_count": 12,
   "id": "f1511658-ba06-49fa-8622-9c91e2233b98",
   "metadata": {},
   "outputs": [],
   "source": [
    "rega5343_prostate = get_rank(ega5343_prostate[feats,:])"
   ]
  },
  {
   "cell_type": "code",
   "execution_count": 13,
   "id": "cd2a48e4-3335-4677-b8e7-04b64632adf3",
   "metadata": {},
   "outputs": [],
   "source": [
    "rctrls = hstack((rega5343_ctrl,rega7080_ctrl,rctrl38s,rctrl29s))"
   ]
  },
  {
   "cell_type": "code",
   "execution_count": 14,
   "id": "691efc58-65dc-4954-a994-05bf7fa42cd5",
   "metadata": {},
   "outputs": [],
   "source": [
    "rctdnas = hstack((rega7080_ctdna,rctdna36s,rbrcas,rcrcs,rega8460))"
   ]
  },
  {
   "cell_type": "code",
   "execution_count": 15,
   "id": "a95b2e91-ad72-457c-912f-7611c6ae17f5",
   "metadata": {},
   "outputs": [],
   "source": [
    "# segmentation\n",
    "def get_breakpoints(arr=rthgs,splits=chr_splits):\n",
    "    bkps = {}\n",
    "    breaks = [0]\n",
    "    offset = 0\n",
    "    for ch in range(22):\n",
    "        ctrl_signals = mean(arr[splits[ch]:splits[ch+1],:],axis=1)\n",
    "        sigma = std(ctrl_signals)\n",
    "        n = len(ctrl_signals)\n",
    "        if n < 100:\n",
    "            offset+=n\n",
    "            continue\n",
    "        algo = rpt.Binseg(model=\"l1\",min_size=100).fit(ctrl_signals) # min size is 1Mbp # \"l1\", \"rbf\", \"linear\", \"normal\", \"ar\",...\n",
    "        my_bkps = algo.predict(pen=log(n)*sigma)\n",
    "        bkps['chr'+str(ch+1)] = [offset]+[x+offset for x in my_bkps]\n",
    "        breaks += [x+offset for x in my_bkps]\n",
    "        offset+= n\n",
    "    return bkps, breaks\n",
    "bkps, breaks = get_breakpoints()"
   ]
  },
  {
   "cell_type": "code",
   "execution_count": 16,
   "id": "618b905c-e2b9-4c3e-aafc-8c03c891b3da",
   "metadata": {},
   "outputs": [],
   "source": [
    "def get_segment_mean(arr,breaks=breaks):\n",
    "    n = len(breaks)-1\n",
    "    arr_seg = []\n",
    "    for i in range(n):\n",
    "        arr_seg.append(mean(arr[breaks[i]:breaks[i+1],:],axis=0))\n",
    "    return array(arr_seg)\n",
    "\n",
    "def get_rank_hist(arr, nbins=8):\n",
    "    hist = []\n",
    "    for s in range(arr.shape[1]):\n",
    "        h,_ = histogram(arr[:,s], bins=linspace(0,240000,nbins+1))\n",
    "        hist.append(h/sum(h))\n",
    "    return array(hist).T   # 8 x n"
   ]
  },
  {
   "cell_type": "code",
   "execution_count": 17,
   "id": "f4747093-49df-49f5-8119-f7062f42fb5f",
   "metadata": {},
   "outputs": [
    {
     "name": "stdout",
     "output_type": "stream",
     "text": [
      "14766.613891687324 9091.224919564898 8910.747007094713 5086.423075596531\n"
     ]
    }
   ],
   "source": [
    "sctrl38s = get_segment_mean(rctrl38s)\n",
    "sctrl29s = get_segment_mean(rctrl29s) \n",
    "sega7080_ctrl = get_segment_mean(rega7080_ctrl)\n",
    "sega5343_ctrl = get_segment_mean(rega5343_ctrl)\n",
    "print(median(std(sctrl38s,axis=1)),median(std(sctrl29s,axis=1)),median(std(sega7080_ctrl,axis=1)),median(std(sega5343_ctrl,axis=1)))"
   ]
  },
  {
   "cell_type": "code",
   "execution_count": 18,
   "id": "380cbcc8-472c-4fa6-a606-caaedecb807a",
   "metadata": {},
   "outputs": [
    {
     "name": "stdout",
     "output_type": "stream",
     "text": [
      "[('chr1', 98), ('chr2', 100), ('chr3', 78), ('chr4', 81), ('chr5', 75), ('chr6', 71), ('chr7', 67), ('chr8', 67), ('chr9', 48), ('chr10', 56), ('chr11', 56), ('chr12', 41), ('chr13', 32), ('chr14', 35), ('chr15', 36), ('chr16', 28), ('chr17', 20), ('chr18', 30), ('chr19', 21), ('chr20', 21), ('chr21', 12), ('chr22', 17)]\n"
     ]
    }
   ],
   "source": [
    "nsegments = []\n",
    "for j in range(1,23):\n",
    "    chrom = 'chr'+str(j)\n",
    "    nsegments.append((chrom,len(bkps[chrom])-1))\n",
    "print(nsegments)"
   ]
  },
  {
   "cell_type": "code",
   "execution_count": null,
   "id": "bc21e20c-fb36-4050-b7b8-c4d6d5c6b004",
   "metadata": {},
   "outputs": [],
   "source": []
  },
  {
   "cell_type": "code",
   "execution_count": 19,
   "id": "564a1b63-abd5-4cb5-b166-d7d7593998d2",
   "metadata": {},
   "outputs": [],
   "source": [
    "def EllipticEnv_predict(arr,ctrl,error=0.05,support_fraction=None,return_clf=True): # feats x n  \n",
    "    estimator = EllipticEnvelope(random_state=12345,contamination=error,support_fraction=support_fraction).fit(ctrl.T) \n",
    "    if return_clf:\n",
    "        return estimator.predict(arr.T), estimator\n",
    "    else:\n",
    "        return estimator.predict(arr.T)"
   ]
  },
  {
   "cell_type": "code",
   "execution_count": 20,
   "id": "06d1ef01-1dfa-47da-b96a-7cd681c87b0c",
   "metadata": {},
   "outputs": [],
   "source": [
    "def Calculate_alpha(rctrl,spe=0.9,error=0.05,support_fraction=0.9):\n",
    "    arr_labels = ensemble_clf(rctrl,rctrl,alpha=None,support_fraction=support_fraction)\n",
    "    sorted_vals = sorted(arr_labels)[::-1]; alphas = [1-x for x in sorted_vals]; #print(mean(alphas[:-1]),std(alphas[:-1]))\n",
    "    n = math.ceil(len(arr_labels)*spe); \n",
    "    alpha = round(1-sorted_vals[n-1],2); print('alpha:',alpha,'specificity:',n/len(arr_labels))\n",
    "    return alpha\n",
    "\n",
    "# 8 dimensions sum to 1; 7 dims encodes all info\n",
    "def ensemble_clf(rarr,rctrl,alpha,dims=[1,2,3,4,5,6,7],incl=['chr1','chr2','chr3','chr4','chr5','chr6','chr7','chr8','chr9','chr10','chr11',\n",
    "                'chr12','chr13','chr14','chr15','chr16','chr17','chr18','chr20'], error=0.05, support_fraction = 0.7, return_raw=True):\n",
    "    arr_labels = zeros(rarr.shape[1]); count = 0\n",
    "    for chrom in incl:\n",
    "        nseg = len(bkps[chrom])-1; #print(chrom,nseg)\n",
    "        arr = get_rank_hist(get_segment_mean(rarr,breaks=bkps[chrom]))[dims,:]\n",
    "        ctrl = get_rank_hist(get_segment_mean(rctrl,breaks=bkps[chrom]))[dims,:]\n",
    "        labels = array([max([x,0]) for x in EllipticEnv_predict(arr,ctrl,error=error,support_fraction=support_fraction,return_clf=False)]) # -1 for outlier, +1 inlier\n",
    "        labels *= nseg\n",
    "        arr_labels += labels\n",
    "        count += nseg\n",
    "    arr_labels/=count\n",
    "    if return_raw:\n",
    "        return arr_labels\n",
    "    #print(\"total number of segments:\",count)\n",
    "    preds = []\n",
    "    for x in arr_labels:\n",
    "        if 1-x > alpha:\n",
    "            preds.append(1) # 1 outlier\n",
    "        else:\n",
    "            preds.append(0) # 0 inlier\n",
    "    return preds\n",
    "\n",
    "def evaluate_performance(pred,truth):\n",
    "    tn, fp, fn, tp = confusion_matrix(truth, pred, labels=[0, 1]).ravel()\n",
    "    specificity = None; sensitivity = None\n",
    "    if tn+fp > 0:\n",
    "        specificity = tn / (tn+fp) #print('specificity:',specificity)\n",
    "    if tp+fn > 0:\n",
    "        sensitivity = tp/(tp+fn) #print('sensitivity:',sensitivity)\n",
    "    return sensitivity, specificity"
   ]
  },
  {
   "cell_type": "code",
   "execution_count": 21,
   "id": "33598448-47f1-49b0-a527-97f459dc489a",
   "metadata": {},
   "outputs": [
    {
     "name": "stdout",
     "output_type": "stream",
     "text": [
      "alpha: 0.15 specificity: 0.9090909090909091\n",
      "sensitivity: 0.8340248962655602\n"
     ]
    }
   ],
   "source": [
    "# matched task, use at least 90% control samples for covariance estimate, i.e., support_fraction=0.9\n",
    "alpha = Calculate_alpha(rega7080_ctrl,spe=0.9,support_fraction=0.9)\n",
    "predY = ensemble_clf(rega7080_ctdna,rega7080_ctrl,alpha=alpha,support_fraction=0.9,return_raw=False)\n",
    "sens,spec = evaluate_performance(predY,[1]*241)\n",
    "print('sensitivity:',sens)"
   ]
  },
  {
   "cell_type": "code",
   "execution_count": 22,
   "id": "5ab1e0d5-30d0-4b99-923f-f1e3643390d3",
   "metadata": {},
   "outputs": [
    {
     "data": {
      "text/plain": [
       "<matplotlib.legend.Legend at 0x7fee93451390>"
      ]
     },
     "execution_count": 22,
     "metadata": {},
     "output_type": "execute_result"
    },
    {
     "data": {
      "image/png": "[encoded data removed]",
      "text/plain": [
       "<Figure size 500x400 with 1 Axes>"
      ]
     },
     "metadata": {},
     "output_type": "display_data"
    }
   ],
   "source": [
    "fig, axs = plt.subplots(ncols=1, figsize=(5, 4))\n",
    "pca = PCA(n_components=2)\n",
    "X = hstack((rctrl38s,rctrl29s,rega5343_ctrl,rega7080_ctdna,rega7080_ctrl)).T\n",
    "X_r = pca.fit_transform(X)\n",
    "y = array([0]*91+[1]*263)\n",
    "target_names = ['ctrl','query']\n",
    "colors = sns.color_palette(\"Set1\", 2)[::-1]\n",
    "for color, i, target_name in zip(colors, [0, 1], target_names):\n",
    "    axs.scatter(X_r[y == i, 0], X_r[y == i, 1], color=color, alpha=.5, s=5, label=target_name)\n",
    "axs.set_xlabel('PC1');axs.set_ylabel('PC2');axs.legend()"
   ]
  },
  {
   "cell_type": "code",
   "execution_count": 23,
   "id": "3e9c7ddf-2674-498e-b20a-e605c0bb91d1",
   "metadata": {},
   "outputs": [
    {
     "name": "stdout",
     "output_type": "stream",
     "text": [
      "alpha: 0.19 specificity: 0.9010989010989011\n",
      "sensitivity: 0.5601659751037344\n",
      "specificity: 0.9090909090909091\n"
     ]
    }
   ],
   "source": [
    "# unmatched task, multiple control sets are used, making differences within control larger, use 70% samples for covaraince estimate\n",
    "# PCA plot shows substantial overlap between ctrl set and the query set\n",
    "alpha = Calculate_alpha(hstack((rctrl38s,rctrl29s,rega5343_ctrl)),spe=0.9,support_fraction=0.7)\n",
    "predY = ensemble_clf(hstack((rega7080_ctdna,rega7080_ctrl)),hstack((rctrl38s,rctrl29s,rega5343_ctrl)),alpha=alpha,support_fraction=0.7,return_raw=False)\n",
    "sens,spec = evaluate_performance(predY,[1]*241+[0]*22)\n",
    "print('sensitivity:',sens)\n",
    "print('specificity:',spec)"
   ]
  },
  {
   "cell_type": "code",
   "execution_count": null,
   "id": "59be0c7f-2ca3-4b39-9b37-8ce3c19dd367",
   "metadata": {},
   "outputs": [],
   "source": []
  },
  {
   "cell_type": "code",
   "execution_count": 24,
   "id": "33f83c84-51eb-41a9-b51e-879d7936464d",
   "metadata": {},
   "outputs": [
    {
     "name": "stdout",
     "output_type": "stream",
     "text": [
      "alpha: 0.09 specificity: 0.9210526315789473\n",
      "sensitivity: 0.2777777777777778\n"
     ]
    }
   ],
   "source": [
    "# matched task\n",
    "alpha = Calculate_alpha(rctrl38s,spe=0.9,support_fraction=0.9)\n",
    "predY = ensemble_clf(rctdna36s,rctrl38s,alpha=alpha,support_fraction=0.9,return_raw=False)\n",
    "sens,spec = evaluate_performance(predY,[1]*36)\n",
    "print('sensitivity:',sens)"
   ]
  },
  {
   "cell_type": "code",
   "execution_count": 25,
   "id": "165fe654-975e-474f-b7b3-728651bc9e1e",
   "metadata": {},
   "outputs": [
    {
     "data": {
      "text/plain": [
       "<matplotlib.legend.Legend at 0x7fee8f861bd0>"
      ]
     },
     "execution_count": 25,
     "metadata": {},
     "output_type": "execute_result"
    },
    {
     "data": {
      "image/png": "[encoded data removed]",
      "text/plain": [
       "<Figure size 500x400 with 1 Axes>"
      ]
     },
     "metadata": {},
     "output_type": "display_data"
    }
   ],
   "source": [
    "fig, axs = plt.subplots(ncols=1, figsize=(5, 4))\n",
    "pca = PCA(n_components=2)\n",
    "X = hstack((rega7080_ctrl,rctrl29s,rega5343_ctrl,rctdna36s,rctrl38s)).T\n",
    "X_r = pca.fit_transform(X)\n",
    "y = array([0]*75+[1]*74)\n",
    "target_names = ['ctrl','query']\n",
    "colors = sns.color_palette(\"Set1\", 2)[::-1]\n",
    "for color, i, target_name in zip(colors, [0, 1], target_names):\n",
    "    axs.scatter(X_r[y == i, 0], X_r[y == i, 1], color=color, alpha=.5, s=5, label=target_name)\n",
    "axs.set_xlabel('PC1');axs.set_ylabel('PC2');axs.legend()"
   ]
  },
  {
   "cell_type": "code",
   "execution_count": 26,
   "id": "a5ea7367-899b-4342-b1db-7325275fe178",
   "metadata": {},
   "outputs": [
    {
     "name": "stdout",
     "output_type": "stream",
     "text": [
      "alpha: 0.43 specificity: 0.96\n",
      "sensitivity: 0.16666666666666666\n",
      "specificity: 0.868421052631579\n"
     ]
    }
   ],
   "source": [
    "# unmatched task\n",
    "# PCA plot shows fewer overlap between ctrl set and the query set, use a larger specificity constraint (0.95)\n",
    "alpha = Calculate_alpha(hstack((rega7080_ctrl,rctrl29s,rega5343_ctrl)),spe=0.95,support_fraction=0.7)\n",
    "predY = ensemble_clf(hstack((rctdna36s,rctrl38s)),hstack((rega7080_ctrl,rctrl29s,rega5343_ctrl)),alpha=alpha,support_fraction=0.7,return_raw=False)\n",
    "sens,spec = evaluate_performance(predY,[1]*36+[0]*38)\n",
    "print('sensitivity:',sens)\n",
    "print('specificity:',spec)"
   ]
  },
  {
   "cell_type": "code",
   "execution_count": null,
   "id": "7b2b9000-a65b-4827-812b-c745a8783e32",
   "metadata": {},
   "outputs": [],
   "source": []
  },
  {
   "cell_type": "code",
   "execution_count": 27,
   "id": "220912cd-002a-4f01-a1ff-e7e8b51de9a4",
   "metadata": {},
   "outputs": [
    {
     "name": "stdout",
     "output_type": "stream",
     "text": [
      "alpha: 0.2 specificity: 0.9166666666666666\n",
      "sensitivity: 1.0\n"
     ]
    }
   ],
   "source": [
    "# matched task\n",
    "alpha = Calculate_alpha(rega5343_ctrl,spe=0.9,support_fraction=0.9)\n",
    "#alpha = 0.17\n",
    "predY = ensemble_clf(rega5343_prostate,rega5343_ctrl,alpha=alpha,support_fraction=0.9,return_raw=False)\n",
    "sens,spec = evaluate_performance(predY,[1]*4)\n",
    "print('sensitivity:',sens)"
   ]
  },
  {
   "cell_type": "code",
   "execution_count": 28,
   "id": "4021787d-3e7c-4424-8961-9348b558930c",
   "metadata": {},
   "outputs": [
    {
     "data": {
      "text/plain": [
       "<matplotlib.legend.Legend at 0x7fee8f71b430>"
      ]
     },
     "execution_count": 28,
     "metadata": {},
     "output_type": "execute_result"
    },
    {
     "data": {
      "image/png": "[encoded data removed]",
      "text/plain": [
       "<Figure size 500x400 with 1 Axes>"
      ]
     },
     "metadata": {},
     "output_type": "display_data"
    }
   ],
   "source": [
    "fig, axs = plt.subplots(ncols=1, figsize=(5, 4))\n",
    "pca = PCA(n_components=2)\n",
    "X = hstack((rega7080_ctrl,rctrl29s,rctrl38s,rega5343_prostate,rega5343_ctrl)).T\n",
    "X_r = pca.fit_transform(X)\n",
    "y = array([0]*89+[1]*28)\n",
    "target_names = ['ctrl','query']\n",
    "colors = sns.color_palette(\"Set1\", 2)[::-1]\n",
    "for color, i, target_name in zip(colors, [0, 1], target_names):\n",
    "    axs.scatter(X_r[y == i, 0], X_r[y == i, 1], color=color, alpha=.5, s=5, label=target_name)\n",
    "axs.set_xlabel('PC1');axs.set_ylabel('PC2');axs.legend()"
   ]
  },
  {
   "cell_type": "code",
   "execution_count": 29,
   "id": "669ff12b-3132-424b-9667-abd35f2e711b",
   "metadata": {},
   "outputs": [
    {
     "name": "stdout",
     "output_type": "stream",
     "text": [
      "alpha: 0.27 specificity: 0.9550561797752809\n",
      "sensitivity: 1.0\n",
      "specificity: 1.0\n"
     ]
    }
   ],
   "source": [
    "# unmatched task\n",
    "# PCA plot shows few overlap between ctrl set and the query set, use a large specificity constraint (0.95)\n",
    "alpha = Calculate_alpha(hstack((rega7080_ctrl,rctrl29s,rctrl38s)),spe=0.95,support_fraction=0.7)\n",
    "predY = ensemble_clf(hstack((rega5343_prostate,rega5343_ctrl)),hstack((rega7080_ctrl,rctrl29s,rctrl38s)),alpha=alpha,support_fraction=0.7,return_raw=False)\n",
    "sens,spec = evaluate_performance(predY,[1]*4+[0]*24)\n",
    "print('sensitivity:',sens)\n",
    "print('specificity:',spec)"
   ]
  },
  {
   "cell_type": "code",
   "execution_count": null,
   "id": "c483fc86-ff1d-4051-816b-bdf4d1aa7bde",
   "metadata": {},
   "outputs": [],
   "source": []
  },
  {
   "cell_type": "markdown",
   "id": "a38a189e-9dc4-4bb6-8174-c53788c96c1e",
   "metadata": {},
   "source": [
    "#### When PCA shows no overlap, use a very strict specificity contraint (>0.95) on training and interpret results carefully"
   ]
  },
  {
   "cell_type": "code",
   "execution_count": 30,
   "id": "8e71770e-521f-470e-9963-2b52992c285b",
   "metadata": {},
   "outputs": [
    {
     "data": {
      "text/plain": [
       "<matplotlib.legend.Legend at 0x7fee8f6caa70>"
      ]
     },
     "execution_count": 30,
     "metadata": {},
     "output_type": "execute_result"
    },
    {
     "data": {
      "image/png": "[encoded data removed]",
      "text/plain": [
       "<Figure size 500x400 with 1 Axes>"
      ]
     },
     "metadata": {},
     "output_type": "display_data"
    }
   ],
   "source": [
    "fig, axs = plt.subplots(ncols=1, figsize=(5, 4))\n",
    "pca = PCA(n_components=2)\n",
    "X = hstack((rega7080_ctrl,rctrl38s,rega5343_ctrl,rctrl29s)).T\n",
    "X_r = pca.fit_transform(X)\n",
    "y = array([0]*84+[1]*29)\n",
    "target_names = ['ctrl','query']\n",
    "colors = sns.color_palette(\"Set1\", 2)[::-1]\n",
    "for color, i, target_name in zip(colors, [0, 1], target_names):\n",
    "    axs.scatter(X_r[y == i, 0], X_r[y == i, 1], color=color, alpha=.5, s=5, label=target_name)\n",
    "axs.set_xlabel('PC1');axs.set_ylabel('PC2');axs.legend()"
   ]
  },
  {
   "cell_type": "code",
   "execution_count": 31,
   "id": "9353229c-ca59-4b9f-a142-f45682f1e712",
   "metadata": {},
   "outputs": [
    {
     "name": "stdout",
     "output_type": "stream",
     "text": [
      "alpha: 0.7 specificity: 0.9761904761904762\n",
      "specificity: 0.896551724137931\n"
     ]
    }
   ],
   "source": [
    "# unmatched task\n",
    "# PCA plot shows very few overlap between ctrl set and the query set, use a very large specificity constraint (0.97)\n",
    "alpha = Calculate_alpha(hstack((rega7080_ctrl,rctrl38s,rega5343_ctrl)),spe=0.97,support_fraction=0.7)\n",
    "predY = ensemble_clf(rctrl29s,hstack((rega7080_ctrl,rega5343_ctrl,rctrl38s)),alpha=alpha,support_fraction=0.7,return_raw=False)\n",
    "sens,spec = evaluate_performance(predY,[0]*29)\n",
    "#print('sensitivity:',sens)\n",
    "print('specificity:',spec)"
   ]
  },
  {
   "cell_type": "code",
   "execution_count": null,
   "id": "ab923f97-85e2-4536-ae64-6ee716dd5f41",
   "metadata": {},
   "outputs": [],
   "source": []
  },
  {
   "cell_type": "code",
   "execution_count": 32,
   "id": "08cf2308-6d00-4e4e-a659-5ef5e7a1285f",
   "metadata": {},
   "outputs": [
    {
     "data": {
      "text/plain": [
       "<matplotlib.legend.Legend at 0x7fee8f5b29e0>"
      ]
     },
     "execution_count": 32,
     "metadata": {},
     "output_type": "execute_result"
    },
    {
     "data": {
      "image/png": "[encoded data removed]",
      "text/plain": [
       "<Figure size 500x400 with 1 Axes>"
      ]
     },
     "metadata": {},
     "output_type": "display_data"
    }
   ],
   "source": [
    "fig, axs = plt.subplots(ncols=1, figsize=(5, 4))\n",
    "pca = PCA(n_components=2)\n",
    "X = hstack((rega7080_ctrl,rctrl38s,rega5343_ctrl,rctrl29s,rcrcs)).T\n",
    "X_r = pca.fit_transform(X)\n",
    "y = array([0]*113+[1]*12)\n",
    "target_names = ['ctrl','query']\n",
    "colors = sns.color_palette(\"Set1\", 2)[::-1]\n",
    "for color, i, target_name in zip(colors, [0, 1], target_names):\n",
    "    axs.scatter(X_r[y == i, 0], X_r[y == i, 1], color=color, alpha=.5, s=5, label=target_name)\n",
    "axs.set_xlabel('PC1');axs.set_ylabel('PC2');axs.legend()"
   ]
  },
  {
   "cell_type": "code",
   "execution_count": 33,
   "id": "fb3d81c9-f55a-4a1f-98c6-bc2ebf994489",
   "metadata": {},
   "outputs": [
    {
     "name": "stdout",
     "output_type": "stream",
     "text": [
      "alpha: 0.42 specificity: 0.9734513274336283\n",
      "sensitivity: 1.0\n"
     ]
    }
   ],
   "source": [
    "# unmatched task\n",
    "# PCA plot shows no overlap between ctrl set and the query set, use a very large specificity constraint (0.97)\n",
    "alpha = Calculate_alpha(hstack((rctrl29s,rega7080_ctrl,rega5343_ctrl,rctrl38s)),spe=0.97,support_fraction=0.7)\n",
    "predY = ensemble_clf(rcrcs,hstack((rctrl29s,rega7080_ctrl,rega5343_ctrl,rctrl38s)),alpha=alpha,support_fraction=0.7,return_raw=False)\n",
    "sens,spec = evaluate_performance(predY,[1]*rcrcs.shape[1])\n",
    "print('sensitivity:',sens)"
   ]
  },
  {
   "cell_type": "code",
   "execution_count": null,
   "id": "87c5061a-2fd2-4546-a379-342c49764f00",
   "metadata": {},
   "outputs": [],
   "source": []
  },
  {
   "cell_type": "code",
   "execution_count": 34,
   "id": "e7a2d332-87fd-4694-a687-8f5e1531eb93",
   "metadata": {},
   "outputs": [
    {
     "data": {
      "text/plain": [
       "<matplotlib.legend.Legend at 0x7fee8f5b2e30>"
      ]
     },
     "execution_count": 34,
     "metadata": {},
     "output_type": "execute_result"
    },
    {
     "data": {
      "image/png": "[encoded data removed]",
      "text/plain": [
       "<Figure size 500x400 with 1 Axes>"
      ]
     },
     "metadata": {},
     "output_type": "display_data"
    }
   ],
   "source": [
    "fig, axs = plt.subplots(ncols=1, figsize=(5, 4))\n",
    "pca = PCA(n_components=2)\n",
    "X = hstack((rega7080_ctrl,rctrl38s,rega5343_ctrl,rctrl29s,rbrcas)).T\n",
    "X_r = pca.fit_transform(X)\n",
    "y = array([0]*113+[1]*9)\n",
    "target_names = ['ctrl','query']\n",
    "colors = sns.color_palette(\"Set1\", 2)[::-1]\n",
    "for color, i, target_name in zip(colors, [0, 1], target_names):\n",
    "    axs.scatter(X_r[y == i, 0], X_r[y == i, 1], color=color, alpha=.5, s=5, label=target_name)\n",
    "axs.set_xlabel('PC1');axs.set_ylabel('PC2');axs.legend()"
   ]
  },
  {
   "cell_type": "code",
   "execution_count": 35,
   "id": "562adab5-0938-46df-8fb7-17663574b463",
   "metadata": {},
   "outputs": [
    {
     "name": "stdout",
     "output_type": "stream",
     "text": [
      "alpha: 0.42 specificity: 0.9734513274336283\n",
      "sensitivity: 1.0\n"
     ]
    }
   ],
   "source": [
    "# unmatched task\n",
    "# PCA plot shows no overlap between ctrl set and the query set, use a very large specificity constraint (0.97)\n",
    "alpha = Calculate_alpha(hstack((rctrl29s,rega7080_ctrl,rega5343_ctrl,rctrl38s)),spe=0.97,support_fraction=0.7)\n",
    "predY = ensemble_clf(rbrcas,hstack((rctrl29s,rega7080_ctrl,rega5343_ctrl,rctrl38s)),alpha=alpha,support_fraction=0.7,return_raw=False)\n",
    "sens,spec = evaluate_performance(predY,[1]*rbrcas.shape[1])\n",
    "print('sensitivity:',sens)"
   ]
  },
  {
   "cell_type": "code",
   "execution_count": null,
   "id": "6c83bc82-6d37-4d55-a6c7-1fd2c2ee3b12",
   "metadata": {},
   "outputs": [],
   "source": []
  },
  {
   "cell_type": "code",
   "execution_count": 36,
   "id": "f7595b24-f8d1-4dae-82b5-21cb56609800",
   "metadata": {},
   "outputs": [
    {
     "data": {
      "text/plain": [
       "<matplotlib.legend.Legend at 0x7fee8f372680>"
      ]
     },
     "execution_count": 36,
     "metadata": {},
     "output_type": "execute_result"
    },
    {
     "data": {
      "image/png": "[encoded data removed]",
      "text/plain": [
       "<Figure size 500x400 with 1 Axes>"
      ]
     },
     "metadata": {},
     "output_type": "display_data"
    }
   ],
   "source": [
    "fig, axs = plt.subplots(ncols=1, figsize=(5, 4))\n",
    "pca = PCA(n_components=2)\n",
    "X = hstack((rega7080_ctrl,rctrl38s,rega5343_ctrl,rctrl29s,rega8460)).T\n",
    "X_r = pca.fit_transform(X)\n",
    "y = array([0]*113+[1]*60)\n",
    "target_names = ['ctrl','query']\n",
    "colors = sns.color_palette(\"Set1\", 2)[::-1]\n",
    "for color, i, target_name in zip(colors, [0, 1], target_names):\n",
    "    axs.scatter(X_r[y == i, 0], X_r[y == i, 1], color=color, alpha=.5, s=5, label=target_name)\n",
    "axs.set_xlabel('PC1');axs.set_ylabel('PC2');axs.legend()"
   ]
  },
  {
   "cell_type": "code",
   "execution_count": 37,
   "id": "acf75be9-b275-4b7d-ba8d-a03a5662a990",
   "metadata": {},
   "outputs": [
    {
     "name": "stdout",
     "output_type": "stream",
     "text": [
      "alpha: 0.42 specificity: 0.9734513274336283\n",
      "sensitivity: 0.95\n"
     ]
    }
   ],
   "source": [
    "# unmatched task\n",
    "# PCA plot shows no overlap between ctrl set and the query set, use a very large specificity constraint (0.97)\n",
    "alpha = Calculate_alpha(hstack((rctrl29s,rega7080_ctrl,rega5343_ctrl,rctrl38s)),spe=0.97,support_fraction=0.7)\n",
    "predY = ensemble_clf(rega8460,hstack((rctrl29s,rega7080_ctrl,rega5343_ctrl,rctrl38s)),alpha=alpha,support_fraction=0.7,return_raw=False)\n",
    "sens,spec = evaluate_performance(predY,[1]*rega8460.shape[1])\n",
    "print('sensitivity:',sens)"
   ]
  },
  {
   "cell_type": "code",
   "execution_count": null,
   "id": "dd3907aa-9d7a-47cc-bcd4-61d90fca9806",
   "metadata": {},
   "outputs": [],
   "source": []
  }
 ],
 "metadata": {
  "kernelspec": {
   "display_name": "Python 3 (ipykernel)",
   "language": "python",
   "name": "python3"
  },
  "language_info": {
   "codemirror_mode": {
    "name": "ipython",
    "version": 3
   },
   "file_extension": ".py",
   "mimetype": "text/x-python",
   "name": "python",
   "nbconvert_exporter": "python",
   "pygments_lexer": "ipython3",
   "version": "3.10.14"
  }
 },
 "nbformat": 4,
 "nbformat_minor": 5
}
